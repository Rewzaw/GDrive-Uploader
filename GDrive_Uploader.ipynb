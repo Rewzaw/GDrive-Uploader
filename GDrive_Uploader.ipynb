{
  "nbformat": 4,
  "nbformat_minor": 0,
  "metadata": {
    "colab": {
      "name": "GDrive-Uploader.ipynb",
      "provenance": [],
      "collapsed_sections": [],
      "authorship_tag": "ABX9TyOQI6EGvuIl37POSVpdH0ya",
      "include_colab_link": true
    },
    "kernelspec": {
      "name": "python3",
      "display_name": "Python 3"
    }
  },
  "cells": [
    {
      "cell_type": "markdown",
      "metadata": {
        "id": "view-in-github",
        "colab_type": "text"
      },
      "source": [
        "<a href=\"https://colab.research.google.com/github/Rewzaw/GDrive-Uploader/blob/master/GDrive_Uploader.ipynb\" target=\"_parent\"><img src=\"https://colab.research.google.com/assets/colab-badge.svg\" alt=\"Open In Colab\"/></a>"
      ]
    },
    {
      "cell_type": "code",
      "metadata": {
        "id": "lsdzmFpSiger",
        "colab_type": "code",
        "cellView": "form",
        "colab": {}
      },
      "source": [
        "#@markdown <h3>⬅️ Run this Cell to  Mount Gdrive\n",
        "#@markdown <br><center><img src='https://upload.wikimedia.org/wikipedia/commons/thumb/d/da/Google_Drive_logo.png/600px-Google_Drive_logo.png' height=\"110\" alt=\"Gdrive logo\"/></center>\n",
        " \n",
        "MODE = \"MOUNT\" #@param [\"MOUNT\", \"UNMOUNT\"]\n",
        "#Mount your Gdrive! \n",
        "from google.colab import drive\n",
        "drive.mount._DEBUG = False\n",
        "if MODE == \"MOUNT\":\n",
        "  drive.mount('/content/drive', force_remount=True)\n",
        "elif MODE == \"UNMOUNT\":\n",
        "  try:\n",
        "    drive.flush_and_unmount()\n",
        "  except ValueError:\n",
        "    pass\n",
        "  get_ipython().system_raw(\"rm -rf /root/.config/Google/DriveFS\")"
      ],
      "execution_count": null,
      "outputs": []
    },
    {
      "cell_type": "code",
      "metadata": {
        "id": "PnlHw7f4jGdP",
        "colab_type": "code",
        "cellView": "form",
        "colab": {}
      },
      "source": [
        "#@markdown <h3>⬅️ First Double Click on me to enter Download Link and Path Directory\n",
        "#@markdown <h1>⬅️ Finally Run this Cell to Download your Desired File\n",
        "\n",
        "\n",
        "\n",
        "import os\n",
        "os.chdir('')  # ⬅️ Path-Directory Between ' '\n",
        "!wget -c '' --no-check-certificate  # ⬅️ Download Link Between ' '\n",
        "\n",
        "\n",
        "from IPython.display import HTML, clear_output\n",
        "\n",
        "clear_output()\n",
        "\n",
        "print(\"\"\"\n",
        "\n",
        "                                                                  __________                               \n",
        "                                                                  \\______   \\ ______  _  _______________   \n",
        "                                                                  |       _// __ \\ \\/ \\/ /\\___   /\\__  \\  \n",
        "                                                                  |    |   \\  ___/\\     /  /    /  / __ \\_\n",
        "                                                                  |____|___/\\_____>\\/\\_/  /______\\(______/        \n",
        "\n",
        "        \n",
        "\"\"\")\n",
        "\n",
        "print(\"\"\"\n",
        "                                                                          Tel: t.me/PyC0der\n",
        "\"\"\")\n",
        "\n",
        "display(HTML(\"<center><h2 style=\\\"font-family:Trebuchet MS;color:#4f8bd6;\\\">Successfully Downloaded!</h2><br></center>\"))"
      ],
      "execution_count": null,
      "outputs": []
    }
  ]
}